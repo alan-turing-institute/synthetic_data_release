{
 "cells": [
  {
   "cell_type": "code",
   "execution_count": null,
   "metadata": {},
   "outputs": [],
   "source": [
    "%load_ext autoreload\n",
    "%autoreload 2\n",
    "%matplotlib inline\n",
    "\n",
    "from warnings import filterwarnings\n",
    "filterwarnings('ignore')"
   ]
  },
  {
   "cell_type": "code",
   "execution_count": null,
   "metadata": {},
   "outputs": [],
   "source": [
    "import sys\n",
    "sys.path.append('../')\n",
    "\n",
    "from utils.analyse_results import *"
   ]
  },
  {
   "cell_type": "markdown",
   "metadata": {},
   "source": [
    "# Linkage"
   ]
  },
  {
   "cell_type": "code",
   "execution_count": null,
   "metadata": {},
   "outputs": [],
   "source": [
    "dirname = '../runs/linkage/'\n",
    "linkage_gain = load_results_linkage(dirname)"
   ]
  },
  {
   "cell_type": "code",
   "execution_count": null,
   "metadata": {},
   "outputs": [],
   "source": [
    "models = ['SanitiserNHSk10', 'BayesianNet', 'PrivBayesEps1.0']\n",
    "fig = plt_per_target_pg(linkage_gain, models, resFilter=('FeatureSet', 'Naive'))"
   ]
  },
  {
   "cell_type": "code",
   "execution_count": null,
   "metadata": {},
   "outputs": [],
   "source": [
    "models = ['SanitiserNHSk10', 'BayesianNet', 'PrivBayesEps1.0']\n",
    "fig = plt_per_target_pg(linkage_gain, models, resFilter=('FeatureSet', 'Correlations'))"
   ]
  },
  {
   "cell_type": "markdown",
   "metadata": {},
   "source": [
    "# Inference"
   ]
  },
  {
   "cell_type": "code",
   "execution_count": null,
   "metadata": {},
   "outputs": [],
   "source": [
    "dirname = '../runs/inference/'\n",
    "dpath = '../data/texas'\n",
    "inference_gain = load_results_inference(dirname, dpath)"
   ]
  },
  {
   "cell_type": "code",
   "execution_count": null,
   "metadata": {},
   "outputs": [],
   "source": [
    "models = ['SanitiserNHSk10', 'BayesianNet', 'PrivBayesEps1.0']\n",
    "fig = plt_per_target_pg(inference_gain, models, resFilter=('SensitiveAttribute', 'RACE'))"
   ]
  },
  {
   "cell_type": "code",
   "execution_count": null,
   "metadata": {},
   "outputs": [],
   "source": [
    "fig = plt_per_target_pg(inference_gain, models, resFilter=('SensitiveAttribute', 'LengthOfStay'))"
   ]
  },
  {
   "cell_type": "markdown",
   "metadata": {},
   "source": [
    "# Aggregate Utility"
   ]
  },
  {
   "cell_type": "code",
   "execution_count": null,
   "metadata": {},
   "outputs": [],
   "source": [
    "dirname = '../runs/utility/'\n",
    "utility_record, utility_agg = load_results_utility(dirname)"
   ]
  },
  {
   "cell_type": "code",
   "execution_count": null,
   "metadata": {},
   "outputs": [],
   "source": [
    "labelVar = 'RiskMortality'\n",
    "models = ['Raw','SanitiserNHSk10', 'BayesianNet', 'PrivBayesEps1.0']\n",
    "fig = plt_avg_accuracy(utility_agg, models)"
   ]
  }
 ],
 "metadata": {
  "kernelspec": {
   "display_name": "Python 3 (ipykernel)",
   "language": "python",
   "name": "python3"
  },
  "language_info": {
   "codemirror_mode": {
    "name": "ipython",
    "version": 3
   },
   "file_extension": ".py",
   "mimetype": "text/x-python",
   "name": "python",
   "nbconvert_exporter": "python",
   "pygments_lexer": "ipython3",
   "version": "3.9.7"
  }
 },
 "nbformat": 4,
 "nbformat_minor": 4
}
